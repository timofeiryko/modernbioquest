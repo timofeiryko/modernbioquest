{
 "cells": [
  {
   "cell_type": "markdown",
   "metadata": {},
   "source": [
    "# Imports and set up"
   ]
  },
  {
   "cell_type": "markdown",
   "metadata": {},
   "source": [
    "Python 3.10 is required!"
   ]
  },
  {
   "cell_type": "code",
   "execution_count": 1,
   "metadata": {},
   "outputs": [],
   "source": [
    "OUTPUT_PATH = 'zakl2019.p'"
   ]
  },
  {
   "cell_type": "code",
   "execution_count": 2,
   "metadata": {},
   "outputs": [],
   "source": [
    "from bs4 import BeautifulSoup\n",
    "\n",
    "import os\n",
    "import string\n",
    "import re\n",
    "from pprint import pprint\n",
    "import pickle\n",
    "from typing import List\n",
    "\n",
    "from parser_dataclasses import QuestionDraft, CleanedQuestion"
   ]
  },
  {
   "cell_type": "code",
   "execution_count": 3,
   "metadata": {},
   "outputs": [],
   "source": [
    "def get_digits(input_string: str) -> List[int]:\n",
    "    cleaned = input_string.translate(str.maketrans('', '', string.punctuation))\n",
    "    digits = [int(s) for s in cleaned.split() if s.isdigit()]\n",
    "    return digits"
   ]
  },
  {
   "cell_type": "markdown",
   "metadata": {},
   "source": [
    "# Get the files"
   ]
  },
  {
   "cell_type": "code",
   "execution_count": 4,
   "metadata": {},
   "outputs": [],
   "source": [
    "# CHANGE THE PATH WHEN RUNNING THIS SCRIPT\n",
    "\n",
    "with open(os.path.join('zakl2019', 'packed.html')) as f:\n",
    "    soup = BeautifulSoup(f, 'html.parser')\n",
    "\n",
    "with open('unpacked.html') as f:\n",
    "    titles_soup = BeautifulSoup(f, 'html.parser')"
   ]
  },
  {
   "cell_type": "markdown",
   "metadata": {},
   "source": [
    "# Parse titles"
   ]
  },
  {
   "cell_type": "code",
   "execution_count": 5,
   "metadata": {},
   "outputs": [],
   "source": [
    "questions = {}\n",
    "part_num = 0\n",
    "number = 0\n",
    "\n",
    "contents_table = titles_soup.find('div', {'id': 'outline'}).find('ul')\n",
    "parts = contents_table.findChildren('li', recursive=False)\n",
    "\n",
    "for part in parts:\n",
    "    if 'Часть' in part.findChildren('a', recursive=False)[0].text:\n",
    "        links_to_questions = part.findChildren('ul', recursive=False)[0].find_all('a', {'class': 'l'})\n",
    "        for link in links_to_questions:\n",
    "\n",
    "            new_num = get_digits(link.text)[0]\n",
    "            if new_num == 1:\n",
    "                part_num += 1\n",
    "                number = new_num    \n",
    "            elif new_num == number + 1:\n",
    "                number = new_num\n",
    "            else:\n",
    "                raise ValueError('Numbers of the questions are not right!')\n",
    "\n",
    "            questions[(part_num, number)] = QuestionDraft(re.sub('Вопрос\\ \\d+\\.\\ ', '', link.text), '', part_num, number)"
   ]
  },
  {
   "cell_type": "markdown",
   "metadata": {},
   "source": [
    "# Parse questions themselves"
   ]
  },
  {
   "cell_type": "code",
   "execution_count": 6,
   "metadata": {},
   "outputs": [],
   "source": [
    "questions = {}\n",
    "\n",
    "for i in range(1, 41):\n",
    "    questions[(1, i)] = QuestionDraft('', '', 1, i)\n",
    "\n",
    "for i in range(1, 31):\n",
    "    questions[(2, i)] = QuestionDraft('', '', 2, i)\n",
    "\n",
    "for i in range(1, 13):\n",
    "    questions[(3, i)] = QuestionDraft('', '', 3, i)\n",
    "\n",
    "for i in range(1, 13):\n",
    "    questions[(4, i)] = QuestionDraft('', '', 4, i)\n",
    "\n",
    "for i in range(1, 6):\n",
    "    questions[(5, i)] = QuestionDraft('', '', 5, i)"
   ]
  },
  {
   "cell_type": "code",
   "execution_count": 7,
   "metadata": {},
   "outputs": [],
   "source": [
    "pages = []\n",
    "for page in soup.find_all('div'):\n",
    "    if page.get('id').startswith('page') and page.get('id').endswith('-div'):\n",
    "        pages.append(page)"
   ]
  },
  {
   "cell_type": "code",
   "execution_count": 8,
   "metadata": {},
   "outputs": [],
   "source": [
    "number = 0\n",
    "part_num = 0\n",
    "\n",
    "for page in pages:\n",
    "    pars = page.findChildren('p', recursive=False)\n",
    "    for par in pars:\n",
    "\n",
    "        if par.text.startswith('Часть'):\n",
    "            new_part_num = get_digits(par.text)[0]\n",
    "\n",
    "            if new_part_num != part_num + 1:\n",
    "                raise ValueError('Wrong part order!')\n",
    "            \n",
    "            if part_num:\n",
    "                questions[(part_num, number)].text = current_str\n",
    "            \n",
    "            part_num = new_part_num\n",
    "            number = 0\n",
    "            current_str = ''\n",
    "            \n",
    "            continue\n",
    "\n",
    "        if part_num:\n",
    "\n",
    "            if get_digits(par.text.strip()):\n",
    "                probable_new_num = get_digits(par.text.strip())[0]\n",
    "                beginning = par.text.strip().removeprefix(str(probable_new_num))\n",
    "                if probable_new_num == number + 1 and beginning.startswith('.'):\n",
    "                    if not number == 0:\n",
    "                        try:\n",
    "                            questions[(part_num, number)].text = current_str\n",
    "                        except KeyError:\n",
    "                            print(f'Question number {number}, part {part_num} not found!')\n",
    "                            print(current_str)\n",
    "                            print('---')\n",
    "                \n",
    "                    current_str = beginning.removeprefix('.')\n",
    "                    number += 1\n",
    "                    continue\n",
    "\n",
    "            current_str += par.text\n"
   ]
  },
  {
   "cell_type": "code",
   "execution_count": 9,
   "metadata": {},
   "outputs": [],
   "source": [
    "cleaned_questions = {}\n",
    "\n",
    "for key, question in questions.items():\n",
    "\n",
    "    splitted = re.split('(\\s[а-яА-Я1-9]\\)\\s[а-яА-Я1-9a-zA-Z])', question.text)\n",
    "    cleaned_text = ' '.join(splitted[0].split())\n",
    "\n",
    "    dividers = splitted[1::2]\n",
    "    variants = splitted[2::2]\n",
    "    variants = [' '.join(re.split('\\s', (v + d))) for v, d in zip(dividers, variants)]\n",
    "    \n",
    "    cleaned_questions[key] = CleanedQuestion(question, cleaned_text, variants)"
   ]
  },
  {
   "cell_type": "code",
   "execution_count": 10,
   "metadata": {},
   "outputs": [
    {
     "name": "stdout",
     "output_type": "stream",
     "text": [
      "/home/dreamtim/Desktop/Coding/Pats/bioquest\n",
      "/home/dreamtim/Desktop/Coding/Pats/bioquest/pdfparsing\n"
     ]
    }
   ],
   "source": [
    "pickle.dump(cleaned_questions, open(OUTPUT_PATH, 'wb'))\n",
    "%cd ..\n",
    "! cp pdfparsing/{OUTPUT_PATH} main/db_pickles\n",
    "%cd -"
   ]
  },
  {
   "cell_type": "code",
   "execution_count": 11,
   "metadata": {},
   "outputs": [
    {
     "name": "stdout",
     "output_type": "stream",
     "text": [
      "1 24\n",
      "Опираясь на данные о современном распространении хвостатых амфибий(верхний рисунок) и теорию дрейфа континентов (нижний рисунок), предположите, сколько миллионов лет назад возникла эта группа позвоночных.\n",
      "---\n",
      "2 8\n",
      "Какие из листьев, представленных на анатомических срезах, принадлежат растениям с С-4 фотосинтезом. а) б) в) г) д) Биология, ЗЭ-2019, 10 класс 20\n",
      "---\n",
      "2 18\n",
      "На рисунке представлено разнообразие песен двух самцов певчей зонотрихии(Melospiza melodia) из семейства овсянковых. Определите, какие пары песен будут петь самцы в случае, если они встретятся друг с другом на границе своих территорий.\n",
      "---\n",
      "4 1\n",
      "[6 баллов] На рисунке представлен типичный жизненный цикл красной водоросли (отдел Rhodophyta). Укажите стадии жизненного цикла и их структуры: Структуры и стадии: 1 – женский гаметофит 7 – тетраспорофит 2 – прорастающая карпоспора 8 – гонимокарп (карпоспорофит) 3 – тетраспоры 9 – прорастающие тетраспоры 4 – ядро зиготы 10 – трихогина 5 – брюшко карпогона (женского гаметангия) 11 – мужской гаметофит 6 – спермации 12 – тетраспорангии Структуры и стадии 1 2 3 4 5 6 7 8 9 10 11 12 Буква на схеме Биология, ЗЭ-2019, 10 класс 36\n",
      "---\n",
      "4 6\n",
      "[5 баллов] На рисунке представлена схема, описывающая работу рычажной системы задних конечностей лягушки при прыжке. Расшифруйте цифровые обозначения рычагов (1-5), используя приведѐнные ниже варианты (А-Т). А – туловищный отдел позвоночника Б – крестцовый отдел позвоночника В – хвостовой отдел позвоночника Г – голень Д – бедро Е – таз Ж – плюсна З – часть костей плюсны И – предплюсна К – часть костей предплюсны Л – часть костей предплюсны + плюсна М – часть костей плюсны + предплюсна Н – фаланги пальцев (со 2-го по 5-й) О – фаланги пальцев (с 1-го по 5-й) П – плюсна + фаланги 1-го пальца Р – предплюсна + фаланги 1-го пальца С – часть костей предплюсны + плюсна + фаланги 1-го пальца Т – часть костей плюсны + предплюсна + фаланги 1-го пальца Рычаг 1 2 3 4 5 Расшифровка Биология, ЗЭ-2019, 10 класс 41\n",
      "---\n",
      "4 10\n",
      "[4 балла] Различные углеводы и их производные могут вступать в гликолиз.На рисунке ниже представлены формулы некоторых из таких соединений. Какое суммарное количество молекул АТФ образуется при расщеплении каждой из приведенных выше молекул за счет субстратного фосфорилирования в процессе гликолиза в животной клетке: Молекула А Б В Г Д Е Ж З Число молекул АТФ Биология, ЗЭ-2019, 10 класс 44\n",
      "---\n",
      "4 11\n",
      "[5,5 баллов] Соотнесите методы (1–5), позволяющие определять количествобиологических молекул, иллюстрирующие их рисунки (I–V) и определяемые молекулы (А–В). Методы: 1– ПЦР в реальном времени без обратной транскрипции, 2– иммуноферментный анализ, 3– нозерн-блот на чипах, 4– флуоресцентная гибридизация in situ, 5– вестерн-блоттинг (иммуноблот). Молекулы: А– ДНК, Б–РНК, В– белки. I II III IV V Рисунок I II III IV V Метод Молекула Биология, ЗЭ-2019, 10 класс 45\n",
      "---\n",
      "5 1\n",
      "[5 баллов] Известно, что продолжительность развития куколок насекомых зависит от температуры. В определѐнном температурном интервале длительность развития куколок можно считать зависимой от температуры, выраженной в градусах Цельсия, по гиперболическому закону: y – время развития куколки (дни); x – температура окружающей среды (°C); a, b, c – эмпирические коэффициенты. В инсектариуме разводят два вида бабочек: А и В. Известно, что куколки бабочек вида А развиваются 18 дней при температуре 20°С и 12 дней при температуре 30°С, а куколки бабочек В – 18,5 дней при 20°С и 11,5 дней при 30°С. Также известно, что коэффициенты b в обоих случаях равны 0. Ч.1. [1 балл] Сколько дней потребуется на прохождение стадии куколки виду А при температуре 18°С? Ч.2. [1 балл] При какой температуре развитие куколки вида В займѐт 10 дней? Ч.3. [3 балла] При какой температуре развитие куколок обоих видов займѐт одинаковое время? Ответы: Ч.1 дней Ч.2 °С Ч.3 °С Биология, ЗЭ-2019, 10 класс 47\n",
      "---\n",
      "5 3\n",
      "[5 баллов] Некоторые аэробные бактерии могут расти, используя в качестве источника углерода жирные кислоты, схема окисления которых приведена ниже. Ч.1. [2 балла] Допустим, что такая бактерия окисляет 1 молекулу стеариновой кислоты (С18 насыщенной жирной кислоты) до ацетил-КоА. Каков чистый энергетический выход этого процесса в молекулах АТФ? Считайте, что окисление 1 молекулы ФАДН2 в дыхательной цепи дает 1,5 молекулы АТФ, а окисление 1 молекулы НАДН – 2,5 молекулы АТФ. Ответ: Ч.2. [1 балл] Сколько молекул кислорода требуется для полного окисления 1 молекулы стеариновой кислоты до углекислого газа и воды? Ответ: Ч.3. [1 балл] Сколько молекул воды образуется при полном окислении 1 молекулы стеариновой кислоты до углекислого газа и воды? Ответ: Ч.4. [1 балл] Сколько граммов воды образуется при полном окислении 1 грамма стеариновой кислоты до углекислого газа и воды (точность два знака после запятой)? Ответ: Биология, ЗЭ-2019, 10 класс 49\n",
      "---\n",
      "5 4\n",
      "[2 балла] Трипептид глутатион состоит из остатков глутаминовой кислоты, цистеина и глицина, соединенных изопептидной и пептидной связью. Массы свободных глутаминовой килоты, цистеина и глицина равны 147, 121 и 75 Да соответственно, в окисленном состоянии глутатион образует дисульфидный мостик. Рассчитайте массу восстановленного и окисленного глутатиона: Восстановленный, Да Окисленный, Да\n",
      "---\n",
      "5 5\n",
      "\n",
      "---\n"
     ]
    }
   ],
   "source": [
    "for cleaned_question in cleaned_questions.values():\n",
    "    if not cleaned_question.answer_variants:\n",
    "        print(cleaned_question.question.part, cleaned_question.question.number)\n",
    "        print(cleaned_question.text)\n",
    "        print('---')"
   ]
  },
  {
   "cell_type": "code",
   "execution_count": null,
   "metadata": {},
   "outputs": [],
   "source": []
  }
 ],
 "metadata": {
  "kernelspec": {
   "display_name": "Python 3.10.5 64-bit",
   "language": "python",
   "name": "python3"
  },
  "language_info": {
   "codemirror_mode": {
    "name": "ipython",
    "version": 3
   },
   "file_extension": ".py",
   "mimetype": "text/x-python",
   "name": "python",
   "nbconvert_exporter": "python",
   "pygments_lexer": "ipython3",
   "version": "3.10.6"
  },
  "orig_nbformat": 4,
  "vscode": {
   "interpreter": {
    "hash": "e7370f93d1d0cde622a1f8e1c04877d8463912d04d973331ad4851f04de6915a"
   }
  }
 },
 "nbformat": 4,
 "nbformat_minor": 2
}
