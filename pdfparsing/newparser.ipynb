{
 "cells": [
  {
   "cell_type": "markdown",
   "metadata": {},
   "source": [
    "# Imports and set up"
   ]
  },
  {
   "cell_type": "code",
   "execution_count": 54,
   "metadata": {},
   "outputs": [],
   "source": [
    "from bs4 import BeautifulSoup\n",
    "import pdfplumber\n",
    "\n",
    "import os\n",
    "import string\n",
    "from dataclasses import dataclass\n",
    "import re\n",
    "\n",
    "from typing import List"
   ]
  },
  {
   "cell_type": "code",
   "execution_count": 44,
   "metadata": {},
   "outputs": [],
   "source": [
    "@dataclass\n",
    "class QuestionDraft:\n",
    "    title: str\n",
    "    text: str\n",
    "    part: int\n",
    "    number: int"
   ]
  },
  {
   "cell_type": "code",
   "execution_count": 45,
   "metadata": {},
   "outputs": [],
   "source": [
    "def get_digits(input_string: str) -> List[int]:\n",
    "    cleaned = input_string.translate(str.maketrans('', '', string.punctuation))\n",
    "    digits = [int(s) for s in cleaned.split() if s.isdigit()]\n",
    "    return digits"
   ]
  },
  {
   "cell_type": "markdown",
   "metadata": {},
   "source": [
    "# Get the files"
   ]
  },
  {
   "cell_type": "code",
   "execution_count": 39,
   "metadata": {},
   "outputs": [],
   "source": [
    "with open(os.path.join('unpacked', 'text.html')) as f:\n",
    "    soup = BeautifulSoup(f, 'html.parser')\n",
    "\n",
    "with open('unpacked.html') as f:\n",
    "    titles_soup = BeautifulSoup(f, 'html.parser')"
   ]
  },
  {
   "cell_type": "markdown",
   "metadata": {},
   "source": [
    "# Parse titles"
   ]
  },
  {
   "cell_type": "code",
   "execution_count": 48,
   "metadata": {},
   "outputs": [],
   "source": [
    "questions = []\n",
    "part_num = 0\n",
    "number = 0\n",
    "\n",
    "contents_table = titles_soup.find('div', {'id': 'outline'}).find('ul')\n",
    "parts = contents_table.findChildren('li', recursive=False)\n",
    "\n",
    "for part in parts:\n",
    "    if 'Часть' in part.findChildren('a', recursive=False)[0].text:\n",
    "        links_to_questions = part.findChildren('ul', recursive=False)[0].find_all('a', {'class': 'l'})\n",
    "        for link in links_to_questions:\n",
    "\n",
    "            new_num = get_digits(link.text)[0]\n",
    "            if new_num == 1:\n",
    "                part_num += 1\n",
    "                number = new_num    \n",
    "            elif new_num == number + 1:\n",
    "                number = new_num\n",
    "            else:\n",
    "                raise ValueError('Numbers of the questions are not right!')\n",
    "\n",
    "            questions.append(QuestionDraft(link.text, '', part_num, number))"
   ]
  },
  {
   "cell_type": "markdown",
   "metadata": {},
   "source": [
    "# Parse questions themselves"
   ]
  },
  {
   "cell_type": "code",
   "execution_count": 50,
   "metadata": {},
   "outputs": [],
   "source": [
    "# pages = []\n",
    "# for page in soup.find_all('div'):\n",
    "#     if page.get('id').startswith('page') and page.get('id').endswith('-div'):\n",
    "#         pages.append(page)"
   ]
  },
  {
   "cell_type": "code",
   "execution_count": 52,
   "metadata": {},
   "outputs": [],
   "source": [
    "# number = 0\n",
    "# part_num = 0\n",
    "\n",
    "# for page in pages:\n",
    "#     pars = page.findChildren('p', recursive=False)\n",
    "#     for par in pars:\n",
    "\n",
    "#         if par.text.startswith('Часть'):\n",
    "#             new_part_num = get_digits(par.text)[0]\n",
    "#             if new_part_num != part_num + 1:\n",
    "#                 raise ValueError('Wrong part order!')\n",
    "#             part_num = new_part_num\n",
    "#             number = 0\n",
    "#             continue\n",
    "\n",
    "#         if part_num:\n",
    "#             if get_digits(par.text.strip())[0] == number:\n",
    "#                 if \n",
    "#                 current_string = \n"
   ]
  },
  {
   "cell_type": "code",
   "execution_count": null,
   "metadata": {},
   "outputs": [],
   "source": []
  }
 ],
 "metadata": {
  "kernelspec": {
   "display_name": "Python 3.10.5 64-bit",
   "language": "python",
   "name": "python3"
  },
  "language_info": {
   "codemirror_mode": {
    "name": "ipython",
    "version": 3
   },
   "file_extension": ".py",
   "mimetype": "text/x-python",
   "name": "python",
   "nbconvert_exporter": "python",
   "pygments_lexer": "ipython3",
   "version": "3.10.5"
  },
  "orig_nbformat": 4,
  "vscode": {
   "interpreter": {
    "hash": "e7370f93d1d0cde622a1f8e1c04877d8463912d04d973331ad4851f04de6915a"
   }
  }
 },
 "nbformat": 4,
 "nbformat_minor": 2
}
