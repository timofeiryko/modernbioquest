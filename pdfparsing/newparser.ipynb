{
 "cells": [
  {
   "cell_type": "markdown",
   "metadata": {},
   "source": [
    "# Imports and set up"
   ]
  },
  {
   "cell_type": "markdown",
   "metadata": {},
   "source": [
    "Python 3.10 is required!"
   ]
  },
  {
   "cell_type": "code",
   "execution_count": 1,
   "metadata": {},
   "outputs": [],
   "source": [
    "OUTPUT_PATH = 'zakl2022.p'"
   ]
  },
  {
   "cell_type": "code",
   "execution_count": 2,
   "metadata": {},
   "outputs": [],
   "source": [
    "from bs4 import BeautifulSoup\n",
    "\n",
    "import os\n",
    "import string\n",
    "import re\n",
    "from pprint import pprint\n",
    "import pickle\n",
    "from typing import List\n",
    "\n",
    "from parser_dataclasses import QuestionDraft, CleanedQuestion"
   ]
  },
  {
   "cell_type": "code",
   "execution_count": 3,
   "metadata": {},
   "outputs": [],
   "source": [
    "def get_digits(input_string: str) -> List[int]:\n",
    "    cleaned = input_string.translate(str.maketrans('', '', string.punctuation))\n",
    "    digits = [int(s) for s in cleaned.split() if s.isdigit()]\n",
    "    return digits"
   ]
  },
  {
   "cell_type": "markdown",
   "metadata": {},
   "source": [
    "# Get the files"
   ]
  },
  {
   "cell_type": "code",
   "execution_count": 4,
   "metadata": {},
   "outputs": [],
   "source": [
    "with open(os.path.join('unpacked', 'text.html')) as f:\n",
    "    soup = BeautifulSoup(f, 'html.parser')\n",
    "\n",
    "with open('unpacked.html') as f:\n",
    "    titles_soup = BeautifulSoup(f, 'html.parser')"
   ]
  },
  {
   "cell_type": "markdown",
   "metadata": {},
   "source": [
    "# Parse titles"
   ]
  },
  {
   "cell_type": "code",
   "execution_count": 5,
   "metadata": {},
   "outputs": [],
   "source": [
    "questions = {}\n",
    "part_num = 0\n",
    "number = 0\n",
    "\n",
    "contents_table = titles_soup.find('div', {'id': 'outline'}).find('ul')\n",
    "parts = contents_table.findChildren('li', recursive=False)\n",
    "\n",
    "for part in parts:\n",
    "    if 'Часть' in part.findChildren('a', recursive=False)[0].text:\n",
    "        links_to_questions = part.findChildren('ul', recursive=False)[0].find_all('a', {'class': 'l'})\n",
    "        for link in links_to_questions:\n",
    "\n",
    "            new_num = get_digits(link.text)[0]\n",
    "            if new_num == 1:\n",
    "                part_num += 1\n",
    "                number = new_num    \n",
    "            elif new_num == number + 1:\n",
    "                number = new_num\n",
    "            else:\n",
    "                raise ValueError('Numbers of the questions are not right!')\n",
    "\n",
    "            questions[(part_num, number)] = QuestionDraft(re.sub('Вопрос\\ \\d+\\.\\ ', '', link.text), '', part_num, number)"
   ]
  },
  {
   "cell_type": "markdown",
   "metadata": {},
   "source": [
    "# Parse questions themselves"
   ]
  },
  {
   "cell_type": "code",
   "execution_count": 6,
   "metadata": {},
   "outputs": [],
   "source": [
    "questions = {}\n",
    "\n",
    "for i in range(1, 41):\n",
    "    questions[(1, i)] = QuestionDraft('', '', 1, i)\n",
    "\n",
    "for i in range(1, 29):\n",
    "    questions[(2, i)] = QuestionDraft('', '', 2, i)\n",
    "\n",
    "for i in range(1, 12):\n",
    "    questions[(3, i)] = QuestionDraft('', '', 3, i)\n",
    "\n",
    "for i in range(1, 19):\n",
    "    questions[(4, i)] = QuestionDraft('', '', 4, i)\n",
    "\n",
    "for i in range(1, 6):\n",
    "    questions[(5, i)] = QuestionDraft('', '', 5, i)"
   ]
  },
  {
   "cell_type": "code",
   "execution_count": 7,
   "metadata": {},
   "outputs": [],
   "source": [
    "pages = []\n",
    "for page in soup.find_all('div'):\n",
    "    if page.get('id').startswith('page') and page.get('id').endswith('-div'):\n",
    "        pages.append(page)"
   ]
  },
  {
   "cell_type": "code",
   "execution_count": 8,
   "metadata": {},
   "outputs": [],
   "source": [
    "number = 0\n",
    "part_num = 0\n",
    "\n",
    "for page in pages:\n",
    "    pars = page.findChildren('p', recursive=False)\n",
    "    for par in pars:\n",
    "\n",
    "        if par.text.startswith('Часть'):\n",
    "            new_part_num = get_digits(par.text)[0]\n",
    "\n",
    "            if new_part_num != part_num + 1:\n",
    "                raise ValueError('Wrong part order!')\n",
    "            \n",
    "            if part_num:\n",
    "                questions[(part_num, number)].text = current_str\n",
    "            \n",
    "            part_num = new_part_num\n",
    "            number = 0\n",
    "            current_str = ''\n",
    "            \n",
    "            continue\n",
    "\n",
    "        if part_num:\n",
    "\n",
    "            if get_digits(par.text.strip()):\n",
    "                probable_new_num = get_digits(par.text.strip())[0]\n",
    "                beginning = par.text.strip().removeprefix(str(probable_new_num))\n",
    "                if probable_new_num == number + 1 and beginning.startswith('.'):\n",
    "                    if not number == 0:\n",
    "                        try:\n",
    "                            questions[(part_num, number)].text = current_str\n",
    "                        except KeyError:\n",
    "                            print(f'Question number {number}, part {part_num} not found!')\n",
    "                            print(current_str)\n",
    "                            print('---')\n",
    "                \n",
    "                    current_str = beginning.removeprefix('.')\n",
    "                    number += 1\n",
    "                    continue\n",
    "\n",
    "            current_str += par.text\n"
   ]
  },
  {
   "cell_type": "code",
   "execution_count": 9,
   "metadata": {},
   "outputs": [],
   "source": [
    "cleaned_questions = {}\n",
    "\n",
    "for key, question in questions.items():\n",
    "\n",
    "    splitted = re.split('(\\s[а-яА-Я1-9]\\)\\s[а-яА-Я1-9a-zA-Z])', question.text)\n",
    "    cleaned_text = ' '.join(splitted[0].split())\n",
    "\n",
    "    dividers = splitted[1::2]\n",
    "    variants = splitted[2::2]\n",
    "    variants = [' '.join(re.split('\\s', (v + d))) for v, d in zip(dividers, variants)]\n",
    "    \n",
    "    cleaned_questions[key] = CleanedQuestion(question, cleaned_text, variants)"
   ]
  },
  {
   "cell_type": "code",
   "execution_count": 10,
   "metadata": {},
   "outputs": [
    {
     "name": "stdout",
     "output_type": "stream",
     "text": [
      "/home/dreamtim/Desktop/Coding/Pats/bioquest\n",
      "/home/dreamtim/Desktop/Coding/Pats/bioquest/pdfparsing\n"
     ]
    }
   ],
   "source": [
    "pickle.dump(cleaned_questions, open(OUTPUT_PATH, 'wb'))\n",
    "%cd ..\n",
    "! cp pdfparsing/{OUTPUT_PATH} main/db_pickles\n",
    "%cd -"
   ]
  },
  {
   "cell_type": "code",
   "execution_count": 11,
   "metadata": {},
   "outputs": [
    {
     "name": "stdout",
     "output_type": "stream",
     "text": [
      "1 24\n",
      "На схеме показано расположение элементов речевого аппарата человека вмомент произнесения звука: а) [н’]; б) [у]; в) [п]; г) [т].\n",
      "---\n",
      "4 3\n",
      "[3 балла] На рисунках изображены два семязачатка. На каждом из них буквами и цифрами отмечены одни и те же структуры: женский гаметофит, интегумент, микропиле, нуцеллус, ткань материнского спорофита, яйцеклетка. Укажите соответствие между цифрами и буквами. Цифры 1 2 3 4 5 6 Буквы Биология, ЗЭ-2021, 11 класс 40\n",
      "---\n",
      "4 4\n",
      "[6 баллов] Процесс опыления у цветковых растений подразумевает перенос пыльцы от пыльника на рыльце пестика и обычно осуществляется при помощи насекомых. Все, что вы видите на микрофотографиях, имеет непосредственное отношение к реализации насекомоопыления. Установите соответствие между изображениями (1 – 12) и объектами (А – Д), с которыми они связаны в своем развитии. А – Андроцей (Тычинки); Б – Гинецей (пестик); В – Насекомое-опылитель; Г – Околоцветник; Д – Не имеет отношения к процессу опыления. Фотография 1 2 3 4 5 6 7 8 9 10 11 12 Объект Биология, ЗЭ-2021, 11 класс 41\n",
      "---\n",
      "4 13\n",
      "[5 баллов] В этом задании Вам предлагается сравнить два важнейшиханаболических процесса: биосинтез гликогена животными и биосинтез крахмала высшими растениями. Ниже дан ряд утверждений, касающихся этих биохимических путей. Ваша задача определить, какие из этих утверждений относятся к биосинтезу гликогена, какие - к биосинтезу крахмала, какие - к обоим путям, а какие - ни к одному из них. Утверждения: 1. Этот процесс осуществляется в цитозоле. 2. Этот процесс осуществляется в мембранных органоидах. 3. Этот процесс протекает только в специализированных тканях. 4. Этот процесс приводит к образованию гликозидных связей. 5. Непосредственным субстратом, используемым для биосинтеза полимера, выступает глюкоза. 6. Непосредственным субстратом, используемым для биосинтеза полимера, выступает УДФ-глюкоза. 7. Непосредственным субстратом, используемым для биосинтеза полимера, выступает АДФ-глюкоза. 8. Этот процесс активируется в клетках при обработке их адреналилом. 9. Этот процесс приводит к формированию разветвленных полисахаридов. 10. В этом процессе участвует фермент амилаза. Утверждение А. Верно только для биосинтеза гликогена в тканях животных Б. Верно только для биосинтеза крахмала в тканях высших растений В. Верно для обоих процессов Г. Неверно для обоих процессов 1 2 3 4 5 6 7 8 9 10\n",
      "---\n",
      "5 1\n",
      "[2,5 балла] У некоторого цветкового растения плод многолистовка, состоящийобычно из 10 плодолистиков. В каждом плодолистике формируется по 15 семязачатков. Определите: Ч.1. [0.5 балла] Максимальное возможное число зародышей в семенах в пределах одного плода при условии успешного оплодотворения и с учетом гибели носителей летальных генотипов (10%) на стадии 4 деления зиготы. Ч.2. [1 балл] Минимально необходимое число пыльцевых зёрен, которое должно попасть на рыльца плодолистиков для успешного двойного оплодотворения во всех семязачатках. Ч.3. [0.5 балла] Число плодов, образуемое этим растением из одного цветка. Ч.4. [0.5 балла] Число спермиев, необходимых для оплодотворения яйцеклеток во всех семязачатках. Ответы: Ч.1 зародышей Ч.2 пыльцевых зерен Ч.3 плодов Ч.4 спермиев Биология, ЗЭ-2021, 11 класс 51\n",
      "---\n",
      "5 2\n",
      "[5 баллов] Бешеный огурец (Ecbalium elaterium) – растение из семейства Тыквенных (Cucurbitaceae) – предпочитает богатые азотом места обитания. При созревании в центральной части плода образуется слизистая жидкость с высоким содержанием осмотически-активных веществ, за счёт чего в камеру поступает вода. В околоплоднике есть эластичный слой, который упруго растягивается, создавая тургорное давление (которое в невскрывшемся плоде примерно равно осмотическому давлению в центральной камере). В момент созревания ткани, окружающие плодоножку, разрываются, и из центральной камеры под давлением «выстреливает» слизь с семенами. Для простоты примем, что в камере плода накопился раствор, состоящий из нитрата калия (25,25 г/л) и сахарозы (34,2 г/л). Для справки: атомарные массы К – 39, N – 14; O – 16; C – 12; H – 1. Формула для расчёта осмотического давления: π = –iCRT Универсальная газовая постоянная R ≈ 8,3 Дж/(моль*К) Ч.1. [1 балл] Рассчитайте концентрацию сахарозы в молях на литр. Ч.2. [1 балл] Рассчитайте концентрацию нитрата калия в молях на литр. Ч.3. [3 балла] Каким будет тургорное давление внутри такого плода при t=27°С (ответ дайте в Паскалях)? Ответы: Ч.1 моль/л Ч.2 моль/л Ч.3 Па Биология, ЗЭ-2021, 11 класс 52\n",
      "---\n",
      "5 3\n",
      "[2 балла] Липиды представляет собой очень гидрофобные соединения, поэтомудля их транспортировки в организме имеются специальные структуры – хиломикроны и липопротеиды разной плотности. На электронных микрофотографиях показаны хиломикроны (слева) и липопротеиды очень низкой плотности (ЛПОНП, справа). Оцените, во сколько раз больше одинаковых липидов может транспортировать самый крупный хиломикрон по сравнению с самым крупным ЛПОНП (из представленных на данных микрофотографиях). Ответ округлите до целого числа. Ответ: В .. раз больше (целое число!)\n",
      "---\n",
      "5 4\n",
      "[5 баллов] Коэффициент инбридинга (F) равен вероятности того, что случайновыбранная пара аллелей в генотипе индивида имеет одинаковое происхождение, т.е. восходит к одному и тому же аллелю предка этого индивида. К примеру, значение F потомков самооплодотворения составляет 1/2; значение F потомков полнокровных брата и сестры — 1/4. Найдите значения F потомков кровосмесительных браков египетских фараонов, указанных в таблице. Считайте, что до указанных браков других актов инбридинга предков не происходило. В ответе укажите обыкновенные дроби. Брак Коэффициент инбридинга, F 1.1 Дочь и отец 1.2 Брат и сестра по одному из родителей 1.3 Дед и внучка 1.4 Племянница и дядя 1.5 Двоюродные брат и сестра Ответ: Ч.1 F Ч.2 F Ч.3 F Ч.4 F Ч.5 F Биология, ЗЭ-2021, 11 класс 53\n",
      "---\n",
      "5 5\n",
      "\n",
      "---\n"
     ]
    }
   ],
   "source": [
    "for cleaned_question in cleaned_questions.values():\n",
    "    if not cleaned_question.answer_variants:\n",
    "        print(cleaned_question.question.part, cleaned_question.question.number)\n",
    "        print(cleaned_question.text)\n",
    "        print('---')"
   ]
  },
  {
   "cell_type": "code",
   "execution_count": null,
   "metadata": {},
   "outputs": [],
   "source": []
  }
 ],
 "metadata": {
  "kernelspec": {
   "display_name": "Python 3.10.5 64-bit",
   "language": "python",
   "name": "python3"
  },
  "language_info": {
   "codemirror_mode": {
    "name": "ipython",
    "version": 3
   },
   "file_extension": ".py",
   "mimetype": "text/x-python",
   "name": "python",
   "nbconvert_exporter": "python",
   "pygments_lexer": "ipython3",
   "version": "3.10.5"
  },
  "orig_nbformat": 4,
  "vscode": {
   "interpreter": {
    "hash": "e7370f93d1d0cde622a1f8e1c04877d8463912d04d973331ad4851f04de6915a"
   }
  }
 },
 "nbformat": 4,
 "nbformat_minor": 2
}
