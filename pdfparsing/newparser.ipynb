{
 "cells": [
  {
   "cell_type": "markdown",
   "metadata": {},
   "source": [
    "# Imports and set up"
   ]
  },
  {
   "cell_type": "markdown",
   "metadata": {},
   "source": [
    "Python 3.10 is required!"
   ]
  },
  {
   "cell_type": "code",
   "execution_count": 1,
   "metadata": {},
   "outputs": [],
   "source": [
    "OUTPUT_PATH = 'zakl2019.p'"
   ]
  },
  {
   "cell_type": "code",
   "execution_count": 2,
   "metadata": {},
   "outputs": [],
   "source": [
    "from bs4 import BeautifulSoup\n",
    "\n",
    "import os\n",
    "import string\n",
    "import re\n",
    "from pprint import pprint\n",
    "import pickle\n",
    "from typing import List\n",
    "\n",
    "from parser_dataclasses import QuestionDraft, CleanedQuestion"
   ]
  },
  {
   "cell_type": "code",
   "execution_count": 3,
   "metadata": {},
   "outputs": [],
   "source": [
    "def get_digits(input_string: str) -> List[int]:\n",
    "    cleaned = input_string.translate(str.maketrans('', '', string.punctuation))\n",
    "    digits = [int(s) for s in cleaned.split() if s.isdigit()]\n",
    "    return digits"
   ]
  },
  {
   "cell_type": "markdown",
   "metadata": {},
   "source": [
    "# Get the files"
   ]
  },
  {
   "cell_type": "code",
   "execution_count": 4,
   "metadata": {},
   "outputs": [],
   "source": [
    "with open(os.path.join('zakl2019', 'packed.html')) as f:\n",
    "    soup = BeautifulSoup(f, 'html.parser')\n",
    "\n",
    "with open('unpacked.html') as f:\n",
    "    titles_soup = BeautifulSoup(f, 'html.parser')"
   ]
  },
  {
   "cell_type": "markdown",
   "metadata": {},
   "source": [
    "# Parse titles"
   ]
  },
  {
   "cell_type": "code",
   "execution_count": 5,
   "metadata": {},
   "outputs": [],
   "source": [
    "questions = {}\n",
    "part_num = 0\n",
    "number = 0\n",
    "\n",
    "contents_table = titles_soup.find('div', {'id': 'outline'}).find('ul')\n",
    "parts = contents_table.findChildren('li', recursive=False)\n",
    "\n",
    "for part in parts:\n",
    "    if 'Часть' in part.findChildren('a', recursive=False)[0].text:\n",
    "        links_to_questions = part.findChildren('ul', recursive=False)[0].find_all('a', {'class': 'l'})\n",
    "        for link in links_to_questions:\n",
    "\n",
    "            new_num = get_digits(link.text)[0]\n",
    "            if new_num == 1:\n",
    "                part_num += 1\n",
    "                number = new_num    \n",
    "            elif new_num == number + 1:\n",
    "                number = new_num\n",
    "            else:\n",
    "                raise ValueError('Numbers of the questions are not right!')\n",
    "\n",
    "            questions[(part_num, number)] = QuestionDraft(re.sub('Вопрос\\ \\d+\\.\\ ', '', link.text), '', part_num, number)"
   ]
  },
  {
   "cell_type": "markdown",
   "metadata": {},
   "source": [
    "# Parse questions themselves"
   ]
  },
  {
   "cell_type": "code",
   "execution_count": 6,
   "metadata": {},
   "outputs": [],
   "source": [
    "questions = {}\n",
    "\n",
    "for i in range(1, 41):\n",
    "    questions[(1, i)] = QuestionDraft('', '', 1, i)\n",
    "\n",
    "for i in range(1, 31):\n",
    "    questions[(2, i)] = QuestionDraft('', '', 2, i)\n",
    "\n",
    "for i in range(1, 13):\n",
    "    questions[(3, i)] = QuestionDraft('', '', 3, i)\n",
    "\n",
    "for i in range(1, 13):\n",
    "    questions[(4, i)] = QuestionDraft('', '', 4, i)\n",
    "\n",
    "for i in range(1, 6):\n",
    "    questions[(5, i)] = QuestionDraft('', '', 5, i)"
   ]
  },
  {
   "cell_type": "code",
   "execution_count": 7,
   "metadata": {},
   "outputs": [],
   "source": [
    "pages = []\n",
    "for page in soup.find_all('div'):\n",
    "    if page.get('id').startswith('page') and page.get('id').endswith('-div'):\n",
    "        pages.append(page)"
   ]
  },
  {
   "cell_type": "code",
   "execution_count": 8,
   "metadata": {},
   "outputs": [
    {
     "name": "stdout",
     "output_type": "stream",
     "text": [
      "Question number 9, part 4 not found!\n",
      "[5 баллов] При использовании аминокислот в энергетическом обмене у животных образуется избыток восстановленного азота, который выводится в виде различных соединений:  1) Соль аммония  2) Мочевая кислота  3) Мочевина        4) Гуанин           NH4Cl                       Ч.1. Рассчитайте долю азота (в целых весовых процентах) в этих веществах.  Ч.2. Соотнесите данные вещества с группами животных, для которых они являются основным продуктом выделения: А) млекопитающие,  Б) костистые рыбы, В) рептилии, Г) насекомые, Д)  пауки, Е) земноводные.  Вещества 1 2 3 4 Азот (N), в целых %     Животные        Биология, ЗЭ-2019, 10 класс 43 \n",
      "---\n",
      "Question number 10, part 4 not found!\n",
      "  [4 балла] Различные углеводы и их производные могут вступать в гликолиз.На рисунке ниже представлены формулы некоторых из таких соединений.     Какое суммарное количество молекул АТФ образуется при расщеплении каждой из приведенных выше молекул за счет субстратного фосфорилирования в процессе гликолиза в животной клетке:   Молекула А Б В Г Д Е Ж З Число молекул АТФ          Биология, ЗЭ-2019, 10 класс 44 \n",
      "---\n",
      "Question number 11, part 4 not found!\n",
      "   [5,5 баллов] Соотнесите методы (1–5), позволяющие определять количествобиологических молекул, иллюстрирующие их рисунки (I–V) и определяемые молекулы (А–В). Методы: 1– ПЦР в реальном времени без обратной транскрипции, 2– иммуноферментный анализ, 3– нозерн-блот на чипах, 4– флуоресцентная гибридизация in situ, 5– вестерн-блоттинг (иммуноблот).  Молекулы: А– ДНК, Б–РНК, В– белки. I  II                             III     IV         V  Рисунок I II III IV V Метод      Молекула        Биология, ЗЭ-2019, 10 класс 45 \n",
      "---\n"
     ]
    },
    {
     "ename": "KeyError",
     "evalue": "(4, 12)",
     "output_type": "error",
     "traceback": [
      "\u001b[0;31m---------------------------------------------------------------------------\u001b[0m",
      "\u001b[0;31mKeyError\u001b[0m                                  Traceback (most recent call last)",
      "\u001b[0;32m/tmp/ipykernel_241989/1921410953.py\u001b[0m in \u001b[0;36m<module>\u001b[0;34m\u001b[0m\n\u001b[1;32m     13\u001b[0m \u001b[0;34m\u001b[0m\u001b[0m\n\u001b[1;32m     14\u001b[0m             \u001b[0;32mif\u001b[0m \u001b[0mpart_num\u001b[0m\u001b[0;34m:\u001b[0m\u001b[0;34m\u001b[0m\u001b[0;34m\u001b[0m\u001b[0m\n\u001b[0;32m---> 15\u001b[0;31m                 \u001b[0mquestions\u001b[0m\u001b[0;34m[\u001b[0m\u001b[0;34m(\u001b[0m\u001b[0mpart_num\u001b[0m\u001b[0;34m,\u001b[0m \u001b[0mnumber\u001b[0m\u001b[0;34m)\u001b[0m\u001b[0;34m]\u001b[0m\u001b[0;34m.\u001b[0m\u001b[0mtext\u001b[0m \u001b[0;34m=\u001b[0m \u001b[0mcurrent_str\u001b[0m\u001b[0;34m\u001b[0m\u001b[0;34m\u001b[0m\u001b[0m\n\u001b[0m\u001b[1;32m     16\u001b[0m \u001b[0;34m\u001b[0m\u001b[0m\n\u001b[1;32m     17\u001b[0m             \u001b[0mpart_num\u001b[0m \u001b[0;34m=\u001b[0m \u001b[0mnew_part_num\u001b[0m\u001b[0;34m\u001b[0m\u001b[0;34m\u001b[0m\u001b[0m\n",
      "\u001b[0;31mKeyError\u001b[0m: (4, 12)"
     ]
    }
   ],
   "source": [
    "number = 0\n",
    "part_num = 0\n",
    "\n",
    "for page in pages:\n",
    "    pars = page.findChildren('p', recursive=False)\n",
    "    for par in pars:\n",
    "\n",
    "        if par.text.startswith('Часть'):\n",
    "            new_part_num = get_digits(par.text)[0]\n",
    "\n",
    "            if new_part_num != part_num + 1:\n",
    "                raise ValueError('Wrong part order!')\n",
    "            \n",
    "            if part_num:\n",
    "                questions[(part_num, number)].text = current_str\n",
    "            \n",
    "            part_num = new_part_num\n",
    "            number = 0\n",
    "            current_str = ''\n",
    "            \n",
    "            continue\n",
    "\n",
    "        if part_num:\n",
    "\n",
    "            if get_digits(par.text.strip()):\n",
    "                probable_new_num = get_digits(par.text.strip())[0]\n",
    "                beginning = par.text.strip().removeprefix(str(probable_new_num))\n",
    "                if probable_new_num == number + 1 and beginning.startswith('.'):\n",
    "                    if not number == 0:\n",
    "                        try:\n",
    "                            questions[(part_num, number)].text = current_str\n",
    "                        except KeyError:\n",
    "                            print(f'Question number {number}, part {part_num} not found!')\n",
    "                            print(current_str)\n",
    "                            print('---')\n",
    "                \n",
    "                    current_str = beginning.removeprefix('.')\n",
    "                    number += 1\n",
    "                    continue\n",
    "\n",
    "            current_str += par.text\n"
   ]
  },
  {
   "cell_type": "code",
   "execution_count": null,
   "metadata": {},
   "outputs": [],
   "source": [
    "cleaned_questions = {}\n",
    "\n",
    "for key, question in questions.items():\n",
    "\n",
    "    splitted = re.split('(\\s[а-яА-Я1-9]\\)\\s[а-яА-Я1-9a-zA-Z])', question.text)\n",
    "    cleaned_text = ' '.join(splitted[0].split())\n",
    "\n",
    "    dividers = splitted[1::2]\n",
    "    variants = splitted[2::2]\n",
    "    variants = [' '.join(re.split('\\s', (v + d))) for v, d in zip(dividers, variants)]\n",
    "    \n",
    "    cleaned_questions[key] = CleanedQuestion(question, cleaned_text, variants)"
   ]
  },
  {
   "cell_type": "code",
   "execution_count": null,
   "metadata": {},
   "outputs": [],
   "source": [
    "pickle.dump(cleaned_questions, open(OUTPUT_PATH, 'wb'))\n",
    "%cd ..\n",
    "! cp pdfparsing/{OUTPUT_PATH} main/db_pickles\n",
    "%cd -"
   ]
  },
  {
   "cell_type": "code",
   "execution_count": null,
   "metadata": {},
   "outputs": [],
   "source": [
    "for cleaned_question in cleaned_questions.values():\n",
    "    if not cleaned_question.answer_variants:\n",
    "        print(cleaned_question.question.part, cleaned_question.question.number)\n",
    "        print(cleaned_question.text)\n",
    "        print('---')"
   ]
  },
  {
   "cell_type": "code",
   "execution_count": null,
   "metadata": {},
   "outputs": [],
   "source": []
  }
 ],
 "metadata": {
  "kernelspec": {
   "display_name": "Python 3.10.5 64-bit",
   "language": "python",
   "name": "python3"
  },
  "language_info": {
   "codemirror_mode": {
    "name": "ipython",
    "version": 3
   },
   "file_extension": ".py",
   "mimetype": "text/x-python",
   "name": "python",
   "nbconvert_exporter": "python",
   "pygments_lexer": "ipython3",
   "version": "3.10.5"
  },
  "orig_nbformat": 4,
  "vscode": {
   "interpreter": {
    "hash": "e7370f93d1d0cde622a1f8e1c04877d8463912d04d973331ad4851f04de6915a"
   }
  }
 },
 "nbformat": 4,
 "nbformat_minor": 2
}
