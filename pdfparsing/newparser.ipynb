{
 "cells": [
  {
   "cell_type": "markdown",
   "metadata": {},
   "source": [
    "# Imports and set up"
   ]
  },
  {
   "cell_type": "markdown",
   "metadata": {},
   "source": [
    "Python 3.10 is required!"
   ]
  },
  {
   "cell_type": "code",
   "execution_count": 1,
   "metadata": {},
   "outputs": [],
   "source": [
    "OUTPUT_PATH = 'zakl2022.p'"
   ]
  },
  {
   "cell_type": "code",
   "execution_count": 2,
   "metadata": {},
   "outputs": [],
   "source": [
    "from bs4 import BeautifulSoup\n",
    "\n",
    "import os\n",
    "import string\n",
    "import re\n",
    "from pprint import pprint\n",
    "import pickle\n",
    "from typing import List\n",
    "\n",
    "from parser_dataclasses import QuestionDraft, CleanedQuestion"
   ]
  },
  {
   "cell_type": "code",
   "execution_count": 3,
   "metadata": {},
   "outputs": [],
   "source": [
    "def get_digits(input_string: str) -> List[int]:\n",
    "    cleaned = input_string.translate(str.maketrans('', '', string.punctuation))\n",
    "    digits = [int(s) for s in cleaned.split() if s.isdigit()]\n",
    "    return digits"
   ]
  },
  {
   "cell_type": "markdown",
   "metadata": {},
   "source": [
    "# Get the files"
   ]
  },
  {
   "cell_type": "code",
   "execution_count": 4,
   "metadata": {},
   "outputs": [],
   "source": [
    "with open(os.path.join('unpacked', 'text.html')) as f:\n",
    "    soup = BeautifulSoup(f, 'html.parser')\n",
    "\n",
    "with open('unpacked.html') as f:\n",
    "    titles_soup = BeautifulSoup(f, 'html.parser')"
   ]
  },
  {
   "cell_type": "markdown",
   "metadata": {},
   "source": [
    "# Parse titles"
   ]
  },
  {
   "cell_type": "code",
   "execution_count": 5,
   "metadata": {},
   "outputs": [],
   "source": [
    "questions = {}\n",
    "part_num = 0\n",
    "number = 0\n",
    "\n",
    "contents_table = titles_soup.find('div', {'id': 'outline'}).find('ul')\n",
    "parts = contents_table.findChildren('li', recursive=False)\n",
    "\n",
    "for part in parts:\n",
    "    if 'Часть' in part.findChildren('a', recursive=False)[0].text:\n",
    "        links_to_questions = part.findChildren('ul', recursive=False)[0].find_all('a', {'class': 'l'})\n",
    "        for link in links_to_questions:\n",
    "\n",
    "            new_num = get_digits(link.text)[0]\n",
    "            if new_num == 1:\n",
    "                part_num += 1\n",
    "                number = new_num    \n",
    "            elif new_num == number + 1:\n",
    "                number = new_num\n",
    "            else:\n",
    "                raise ValueError('Numbers of the questions are not right!')\n",
    "\n",
    "            questions[(part_num, number)] = QuestionDraft(re.sub('Вопрос\\ \\d+\\.\\ ', '', link.text), '', part_num, number)"
   ]
  },
  {
   "cell_type": "markdown",
   "metadata": {},
   "source": [
    "# Parse questions themselves"
   ]
  },
  {
   "cell_type": "code",
   "execution_count": 6,
   "metadata": {},
   "outputs": [],
   "source": [
    "pages = []\n",
    "for page in soup.find_all('div'):\n",
    "    if page.get('id').startswith('page') and page.get('id').endswith('-div'):\n",
    "        pages.append(page)"
   ]
  },
  {
   "cell_type": "code",
   "execution_count": 7,
   "metadata": {},
   "outputs": [],
   "source": [
    "number = 0\n",
    "part_num = 0\n",
    "\n",
    "for page in pages:\n",
    "    pars = page.findChildren('p', recursive=False)\n",
    "    for par in pars:\n",
    "\n",
    "        if par.text.startswith('Часть'):\n",
    "            new_part_num = get_digits(par.text)[0]\n",
    "\n",
    "            if new_part_num != part_num + 1:\n",
    "                raise ValueError('Wrong part order!')\n",
    "            \n",
    "            if part_num:\n",
    "                questions[(part_num, number)].text = current_str\n",
    "            \n",
    "            part_num = new_part_num\n",
    "            number = 0\n",
    "            current_str = ''\n",
    "            \n",
    "            continue\n",
    "\n",
    "        if part_num:\n",
    "\n",
    "            if get_digits(par.text.strip()):\n",
    "                probable_new_num = get_digits(par.text.strip())[0]\n",
    "                beginning = par.text.removeprefix(str(probable_new_num))\n",
    "                if probable_new_num == number + 1 and beginning.startswith('.'):\n",
    "                    if not number == 0:\n",
    "                        try:\n",
    "                            questions[(part_num, number)].text = current_str\n",
    "                        except KeyError:\n",
    "                            print(f'Question number {number}, part {part_num} not found!')\n",
    "                            print(current_str)\n",
    "                            print('---')\n",
    "                \n",
    "                    current_str = beginning.removeprefix('.')\n",
    "                    number += 1\n",
    "                    continue\n",
    "\n",
    "            current_str += par.text\n"
   ]
  },
  {
   "cell_type": "code",
   "execution_count": 8,
   "metadata": {},
   "outputs": [],
   "source": [
    "cleaned_questions = {}\n",
    "\n",
    "for key, question in questions.items():\n",
    "\n",
    "    splitted = re.split('(\\s[а-яА-Я1-9]\\)\\s[а-яА-Я1-9])', question.text)\n",
    "    cleaned_text = ' '.join(splitted[0].split())\n",
    "\n",
    "    dividers = splitted[1::2]\n",
    "    variants = splitted[2::2]\n",
    "    variants = [' '.join(re.split('\\s', (v + d))) for v, d in zip(dividers, variants)]\n",
    "    \n",
    "    cleaned_questions[key] = CleanedQuestion(question, cleaned_text, variants)"
   ]
  },
  {
   "cell_type": "code",
   "execution_count": 9,
   "metadata": {},
   "outputs": [
    {
     "name": "stdout",
     "output_type": "stream",
     "text": [
      "/home/dreamtim/Desktop/Coding/Pats/bioquest\n",
      "/home/dreamtim/Desktop/Coding/Pats/bioquest/pdfparsing\n"
     ]
    }
   ],
   "source": [
    "pickle.dump(cleaned_questions, open(OUTPUT_PATH, 'wb'))\n",
    "%cd ..\n",
    "! cp pdfparsing/{OUTPUT_PATH} main/db_pickles\n",
    "%cd -"
   ]
  },
  {
   "cell_type": "code",
   "execution_count": 10,
   "metadata": {},
   "outputs": [
    {
     "name": "stdout",
     "output_type": "stream",
     "text": [
      "1 11\n",
      "На рисунке изображена диаграмма цветка Spiraea salicifolia L. Выберите формулу цветка, соответствующую данной диаграмме: а) ↑ Ca5 Cо5 А10+10+10 G10+5 ; б) * Ca5 Cо∞ А40 G(5); в) * Ca5 Cо 5 А10+10+10+10 G5 ; г) * Ca3+5 Cо 5 А∞ G5 .\n",
      "---\n",
      "2 19\n",
      "Гистоны, являющиеся основным компонентом хроматина, имеют сильный положительный заряд. Он обусловлен высоким содержанием аминокислот: а) ; б) ; в) г) ; д) .\n",
      "---\n",
      "4 3\n",
      "[3 балла] На рисунке справа изображено строение сердца брюхоногогомоллюска литорины (Littorina littorea), а слева – данные регистрации давленияв различных отделах кровеносной системы и перикарде. Учитывая строениесердца, установите, какие графики и интервалы, отражающие параметрыдеятельности сердца (А–З, даны в избытке!), обозначены на рисунке цифрами 1– 6.Запишите в таблицу на листе ответов соответствие между цифрами и буквами. Графики и интервалы: А – давление в полости перикарда; Б – давление в предсердии; В – давление в желудочке; Г – давление в почечной вене; Д – систола желудочка; Е – диастола желудочка; Ж – систола предсердия; З – диастола предсердия. Цифры (элементы на рисунке) 1 2 3 4 5 6 Буквы (графики и интервалы) Биология, ЗЭ-2022, 11 класс 38\n",
      "---\n",
      "4 7\n",
      "[2,5 балла]. На рисунке ниже под буквами А – Д схематично изображены этапыоогенеза, показана одна пара гомологичных хромосом с отдельнымихроматидами. Обратите внимание на взаимное расположение хроматид ираспределите предложенные этапы оогенеза в хронологическом порядке. Есликакого-то этапа на самом деле не существует, укажите буквы этапов 1 – 4,начиная с первого, выбрав вместо несуществующих этапов на последней стадиибукву «Е».№ 1 2 3 4 5 Этап Биология, ЗЭ-2022, 11 класс 41\n",
      "---\n",
      "5 1\n",
      "[2 балла] Рассчитайте вероятность рождения ребенка с группой крови АВ у матери с группой крови А и отца с группой крови В, если у них уже есть ребенок с группой крови О. Ответ округлите до целых процентов. Ответ: ______________\n",
      "---\n",
      "5 2\n",
      "\n",
      "---\n"
     ]
    }
   ],
   "source": [
    "for cleaned_question in cleaned_questions.values():\n",
    "    if not cleaned_question.answer_variants:\n",
    "        print(cleaned_question.question.part, cleaned_question.question.number)\n",
    "        print(cleaned_question.text)\n",
    "        print('---')"
   ]
  },
  {
   "cell_type": "code",
   "execution_count": 13,
   "metadata": {},
   "outputs": [
    {
     "name": "stdout",
     "output_type": "stream",
     "text": [
      " а) аноксигенные фототрофы – оксигенные фототрофы – бродильщики – сульфатредукторы;\n"
     ]
    }
   ],
   "source": [
    "print(cleaned_questions[1, 2].answer_variants[0])"
   ]
  },
  {
   "cell_type": "code",
   "execution_count": null,
   "metadata": {},
   "outputs": [],
   "source": []
  }
 ],
 "metadata": {
  "kernelspec": {
   "display_name": "Python 3.10.5 64-bit",
   "language": "python",
   "name": "python3"
  },
  "language_info": {
   "codemirror_mode": {
    "name": "ipython",
    "version": 3
   },
   "file_extension": ".py",
   "mimetype": "text/x-python",
   "name": "python",
   "nbconvert_exporter": "python",
   "pygments_lexer": "ipython3",
   "version": "3.10.5"
  },
  "orig_nbformat": 4,
  "vscode": {
   "interpreter": {
    "hash": "e7370f93d1d0cde622a1f8e1c04877d8463912d04d973331ad4851f04de6915a"
   }
  }
 },
 "nbformat": 4,
 "nbformat_minor": 2
}
